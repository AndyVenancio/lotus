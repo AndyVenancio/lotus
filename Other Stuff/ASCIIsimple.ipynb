{
 "cells": [
  {
   "cell_type": "code",
   "execution_count": 1,
   "id": "9097cfb7",
   "metadata": {},
   "outputs": [
    {
     "name": "stdout",
     "output_type": "stream",
     "text": [
      "Hello World!\n"
     ]
    }
   ],
   "source": [
    "print(\"Hello World!\")"
   ]
  },
  {
   "cell_type": "code",
   "execution_count": 2,
   "id": "5fd2d2f8",
   "metadata": {},
   "outputs": [],
   "source": [
    "def ASCIIvalue(word):\n",
    "    svalue = \"\"\n",
    "    \n",
    "    for letter in word:\n",
    "        if (letter == ' '): \n",
    "            continue\n",
    "        else: \n",
    "            letval = ord(letter)\n",
    "            svalue += str(letval)       \n",
    "    \n",
    "    value = int(svalue)\n",
    "    \n",
    "    return value        "
   ]
  },
  {
   "cell_type": "code",
   "execution_count": 8,
   "id": "39d0d548",
   "metadata": {},
   "outputs": [
    {
     "name": "stdout",
     "output_type": "stream",
     "text": [
      "This is my name in ASCII:  7210197118101110\n"
     ]
    }
   ],
   "source": [
    "name = \"Heaven\"\n",
    "print(\"This is my name in ASCII: \", ASCIIvalue(name))"
   ]
  },
  {
   "cell_type": "code",
   "execution_count": null,
   "id": "66ff6db5",
   "metadata": {},
   "outputs": [],
   "source": []
  }
 ],
 "metadata": {
  "kernelspec": {
   "display_name": "Python 3.8.13 ('base')",
   "language": "python",
   "name": "python3"
  },
  "language_info": {
   "codemirror_mode": {
    "name": "ipython",
    "version": 3
   },
   "file_extension": ".py",
   "mimetype": "text/x-python",
   "name": "python",
   "nbconvert_exporter": "python",
   "pygments_lexer": "ipython3",
   "version": "3.11.5"
  },
  "vscode": {
   "interpreter": {
    "hash": "1562dc9694b26a7e259a2c1d96da21c5033e54cc9e36288e4eb2f0c71ae02ae9"
   }
  }
 },
 "nbformat": 4,
 "nbformat_minor": 5
}
