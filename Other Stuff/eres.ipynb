{
 "cells": [
  {
   "cell_type": "code",
   "execution_count": 13,
   "metadata": {},
   "outputs": [
    {
     "name": "stdout",
     "output_type": "stream",
     "text": [
      "A\n",
      "AS\n",
      "AB\n",
      "ABF\n",
      "ABC\n",
      "ABCC\n",
      "ABCCE\n",
      "ABCCEE\n",
      "ABCCED\n",
      "ABCCS\n",
      "ABCCF\n",
      "ABCE\n",
      "B\n",
      "C\n",
      "E\n",
      "S\n",
      "F\n",
      "C\n",
      "S\n",
      "A\n",
      "AD\n",
      "AS\n",
      "D\n",
      "E\n",
      "E\n",
      "True\n"
     ]
    }
   ],
   "source": [
    "from typing import List\n",
    "class Solution:\n",
    "    def exist(self, board: List[List[str]], word: str) -> bool:\n",
    "        r = len(board)\n",
    "        c = len(board[0])\n",
    "        visited = [[False] * c for _ in range(r)]\n",
    "        result = False\n",
    "\n",
    "        def dfs(i, j, string1):\n",
    "            nonlocal result\n",
    "            if i < 0 or j < 0 or i >= r or j >= c or visited[i][j]:\n",
    "                return\n",
    "            \n",
    "            string1 += board[i][j]\n",
    "            print(string1)\n",
    "            if string1 == word:\n",
    "                result = True\n",
    "                return\n",
    "            if word.startswith(string1):\n",
    "                visited[i][j] = True\n",
    "                dfs(i+1, j, string1)\n",
    "                dfs(i, j+1, string1)\n",
    "                dfs(i-1, j, string1)\n",
    "                dfs(i, j-1, string1)\n",
    "                visited[i][j] = False\n",
    "\n",
    "        for i in range(r):\n",
    "            for j in range(c):\n",
    "                dfs(i, j, \"\")\n",
    "\n",
    "        return result\n",
    "    \n",
    "print(Solution().exist([[\"A\",\"B\",\"C\",\"E\"],[\"S\",\"F\",\"C\",\"S\"],[\"A\",\"D\",\"E\",\"E\"]], \"ABCCED\"))"
   ]
  }
 ],
 "metadata": {
  "kernelspec": {
   "display_name": "base",
   "language": "python",
   "name": "python3"
  },
  "language_info": {
   "codemirror_mode": {
    "name": "ipython",
    "version": 3
   },
   "file_extension": ".py",
   "mimetype": "text/x-python",
   "name": "python",
   "nbconvert_exporter": "python",
   "pygments_lexer": "ipython3",
   "version": "3.11.5"
  }
 },
 "nbformat": 4,
 "nbformat_minor": 2
}
